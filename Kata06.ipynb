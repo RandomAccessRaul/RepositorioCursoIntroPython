{
 "cells": [
  {
   "cell_type": "code",
   "execution_count": 12,
   "metadata": {},
   "outputs": [
    {
     "name": "stdout",
     "output_type": "stream",
     "text": [
      "En el Sistema Solar hay 8 Planetas.\n",
      "Pluton era un planeta antes del 2006.\n"
     ]
    }
   ],
   "source": [
    "#Ejercicio 1\n",
    "\n",
    "Planetas = [\"Mercurio\",\"Venus\",\"Tierra\",\"Marte\",\"Jupiter\",\"Saturno\",\"Urano\",\"Neptuno\"]\n",
    "print(\"En el Sistema Solar hay\",len(Planetas),\"Planetas.\")\n",
    "\n",
    "Planetas.append(\"Pluton\")\n",
    "print(Planetas[-1], \"era un planeta antes del 2006.\")"
   ]
  },
  {
   "cell_type": "code",
   "execution_count": 19,
   "metadata": {},
   "outputs": [
    {
     "name": "stdout",
     "output_type": "stream",
     "text": [
      "Los planetas que son mas cercanos al sol que Tierra:\n",
      "['Mercurio', 'Venus']\n",
      "Los planetas que son mas lejanos al sol que Tierra:\n",
      "['Marte', 'Jupiter', 'Saturno', 'Urano', 'Neptuno']\n"
     ]
    }
   ],
   "source": [
    "#Ejercicio 2\n",
    "Planetas = [\"Mercurio\",\"Venus\",\"Tierra\",\"Marte\",\"Jupiter\",\"Saturno\",\"Urano\",\"Neptuno\"]\n",
    "\n",
    "Introducir_Planeta = input(\"Introducir nombre del planeta con la primera letra en Mayuscula.\")\n",
    "\n",
    "Planetas_Index = Planetas.index(Introducir_Planeta)\n",
    "\n",
    "print(\"Los planetas que son mas cercanos al sol que \" + Introducir_Planeta + \":\") \n",
    "print(Planetas[0:Planetas_Index])\n",
    "\n",
    "print(\"Los planetas que son mas lejanos al sol que \" + Introducir_Planeta + \":\")\n",
    "print(Planetas[Planetas_Index + 1:])"
   ]
  }
 ],
 "metadata": {
  "interpreter": {
   "hash": "e28d9b8b85998b4f1517260871eb496025499656fc1a50381b2c499af6178249"
  },
  "kernelspec": {
   "display_name": "Python 3.10.2 64-bit (windows store)",
   "language": "python",
   "name": "python3"
  },
  "language_info": {
   "codemirror_mode": {
    "name": "ipython",
    "version": 3
   },
   "file_extension": ".py",
   "mimetype": "text/x-python",
   "name": "python",
   "nbconvert_exporter": "python",
   "pygments_lexer": "ipython3",
   "version": "3.10.2"
  },
  "orig_nbformat": 4
 },
 "nbformat": 4,
 "nbformat_minor": 2
}

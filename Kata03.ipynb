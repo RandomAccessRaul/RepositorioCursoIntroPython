{
 "cells": [
  {
   "cell_type": "code",
   "execution_count": 18,
   "metadata": {},
   "outputs": [
    {
     "name": "stdout",
     "output_type": "stream",
     "text": [
      "Peligro, asteroide se acerca a alta velocidad: 49km/h.\n"
     ]
    }
   ],
   "source": [
    "VelocidadAsteroide = 49\n",
    "VelocidadDeAdvertencia = 25\n",
    "\n",
    "if VelocidadAsteroide >= VelocidadDeAdvertencia:\n",
    "    print (\"Peligro, asteroide se acerca a alta velocidad: \" + str(VelocidadAsteroide) + \"km/h.\")\n",
    "\n",
    "else: print (\"Buen dia tierra!\")"
   ]
  },
  {
   "cell_type": "code",
   "execution_count": 17,
   "metadata": {},
   "outputs": [
    {
     "name": "stdout",
     "output_type": "stream",
     "text": [
      "Peligro, asteroide acercandose.\n"
     ]
    }
   ],
   "source": [
    "VelocidadAsteroide = 19\n",
    "VelocidadAsteroideRayo = 20\n",
    "\n",
    "if VelocidadAsteroide >= VelocidadAsteroideRayo:\n",
    "    print (\"Asteroide acercandose, busque un rayo de luz en el cielo.\")\n",
    "\n",
    "elif VelocidadAsteroide <= VelocidadAsteroideRayo:\n",
    "    print (\"Asteroide acercandose.\")\n",
    "\n",
    "else: print (\"Buen dia tierra!\")"
   ]
  },
  {
   "cell_type": "code",
   "execution_count": 30,
   "metadata": {},
   "outputs": [
    {
     "name": "stdout",
     "output_type": "stream",
     "text": [
      "Buen dia tierra!\n"
     ]
    }
   ],
   "source": [
    "TamañoAsteroide = 26\n",
    "VelocidadAsteroide = 19\n",
    "\n",
    "if TamañoAsteroide > 25 and VelocidadAsteroide >= 25:\n",
    "    print (\"Peligro, gran asteroide acercandose, busque un rayo de luz en el cielo y busque refugio.\")\n",
    "\n",
    "elif TamañoAsteroide <= 25 and VelocidadAsteroide <= 25:\n",
    "    print (\"Busque un rayo de luz en el cielo y disfrute!\")\n",
    "\n",
    "elif VelocidadAsteroide >= 20:\n",
    "    print (\"Busque un rayo de luz en el cielo y disfrute!\")\n",
    "\n",
    "else: print (\"Buen dia tierra!\")\n",
    "\n"
   ]
  }
 ],
 "metadata": {
  "interpreter": {
   "hash": "b4bfbf8947de698da6910280575658f1788f32b55b8a01284e9401f8ef4a8596"
  },
  "kernelspec": {
   "display_name": "Python 3.10.2 64-bit",
   "language": "python",
   "name": "python3"
  },
  "language_info": {
   "codemirror_mode": {
    "name": "ipython",
    "version": 3
   },
   "file_extension": ".py",
   "mimetype": "text/x-python",
   "name": "python",
   "nbconvert_exporter": "python",
   "pygments_lexer": "ipython3",
   "version": "3.10.2"
  },
  "orig_nbformat": 4
 },
 "nbformat": 4,
 "nbformat_minor": 2
}

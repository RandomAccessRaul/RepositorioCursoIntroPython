{
 "cells": [
  {
   "cell_type": "markdown",
   "metadata": {},
   "source": [
    "#Ejercicio 1"
   ]
  },
  {
   "cell_type": "code",
   "execution_count": 14,
   "metadata": {},
   "outputs": [
    {
     "data": {
      "text/plain": [
       "['Interesting facts about the Moon',\n",
       " \"The Moon is Earth's only satellite\",\n",
       " 'There are several interesting facts about the Moon and how it affects life here on Earth',\n",
       " 'On average, the Moon moves 4cm away from the Earth every year',\n",
       " 'This yearly drift is not significant enough to cause immediate effects on Earth',\n",
       " 'The highest daylight temperature of the Moon is 127 C.']"
      ]
     },
     "execution_count": 14,
     "metadata": {},
     "output_type": "execute_result"
    }
   ],
   "source": [
    "text = \"\"\"Interesting facts about the Moon. The Moon is Earth's only satellite. There are several interesting facts about the Moon and how it affects life here on Earth. On average, the Moon moves 4cm away from the Earth every year. This yearly drift is not significant enough to cause immediate effects on Earth. The highest daylight temperature of the Moon is 127 C.\"\"\"\n",
    "text_splitted = text.split('. ')\n",
    "text.split('. ')"
   ]
  },
  {
   "cell_type": "code",
   "execution_count": 18,
   "metadata": {},
   "outputs": [
    {
     "data": {
      "text/plain": [
       "('average', 'temperature', 'distance')"
      ]
     },
     "execution_count": 18,
     "metadata": {},
     "output_type": "execute_result"
    }
   ],
   "source": [
    "key_words = (\"average\", \"temperature\", \"distance\")\n",
    "key_words\n"
   ]
  },
  {
   "cell_type": "code",
   "execution_count": 21,
   "metadata": {},
   "outputs": [
    {
     "name": "stdout",
     "output_type": "stream",
     "text": [
      "On average, the Moon moves 4cm away from the Earth every year\n",
      "The highest daylight temperature of the Moon is 127 C.\n"
     ]
    }
   ],
   "source": [
    "for sentence in text_splitted:\n",
    "    for key_word in key_words:\n",
    "        if key_word in sentence:\n",
    "            print(sentence)"
   ]
  },
  {
   "cell_type": "code",
   "execution_count": 22,
   "metadata": {},
   "outputs": [
    {
     "name": "stdout",
     "output_type": "stream",
     "text": [
      "The highest daylight temperature of the Moon is 127 Celsius.\n"
     ]
    }
   ],
   "source": [
    "print (sentence.replace(' C', ' Celsius'))"
   ]
  },
  {
   "cell_type": "markdown",
   "metadata": {},
   "source": [
    "#Ejercicio 2"
   ]
  },
  {
   "cell_type": "code",
   "execution_count": 86,
   "metadata": {},
   "outputs": [
    {
     "name": "stdout",
     "output_type": "stream",
     "text": [
      "Gravity facts about Moon \n",
      "Planet Name: Earth \n",
      "Gravity in Moon: 1.6199999999999999 m/s2\n",
      "\n",
      "Gravity Facts about Ganimedes\n",
      "----------------------------------------------\n",
      "Planet Name: Mars\n",
      "Gravity in Ganimedes: 1.4300000000000002 ms/s2\n"
     ]
    }
   ],
   "source": [
    "name = \"Moon\"\n",
    "gravity = 0.00162 # in kms\n",
    "planet = \"Earth\"\n",
    "\n",
    "gravity_in_meters = gravity*1000\n",
    "\n",
    "Title = f\"Gravity facts about {name}\"\n",
    "Facts_PlanetName = f\"Planet Name: {planet}\"\n",
    "\n",
    "Template = f\"{Title} \\n{Facts_PlanetName} \\nGravity in {name}: {gravity_in_meters} m/s2\"\n",
    "\n",
    "print(Template)\n",
    "\n",
    "name = \"Ganimedes\"\n",
    "gravity_in_kms = 0.00143\n",
    "gravity = gravity_in_kms*1000\n",
    "planet = \"Mars\" \n",
    "\n",
    "newTemplate= f\"\"\"\n",
    "Gravity Facts about {name}\n",
    "----------------------------------------------\n",
    "Planet Name: {planet}\n",
    "Gravity in {name}: {gravity} ms/s2\"\"\"\n",
    "\n",
    "print(newTemplate)"
   ]
  }
 ],
 "metadata": {
  "interpreter": {
   "hash": "e28d9b8b85998b4f1517260871eb496025499656fc1a50381b2c499af6178249"
  },
  "kernelspec": {
   "display_name": "Python 3.10.2 64-bit (windows store)",
   "language": "python",
   "name": "python3"
  },
  "language_info": {
   "codemirror_mode": {
    "name": "ipython",
    "version": 3
   },
   "file_extension": ".py",
   "mimetype": "text/x-python",
   "name": "python",
   "nbconvert_exporter": "python",
   "pygments_lexer": "ipython3",
   "version": "3.10.2"
  },
  "orig_nbformat": 4
 },
 "nbformat": 4,
 "nbformat_minor": 2
}

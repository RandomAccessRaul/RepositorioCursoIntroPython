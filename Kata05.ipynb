{
 "cells": [
  {
   "cell_type": "markdown",
   "metadata": {},
   "source": [
    "#Ejercicio 1"
   ]
  },
  {
   "cell_type": "code",
   "execution_count": 14,
   "metadata": {},
   "outputs": [
    {
     "name": "stdout",
     "output_type": "stream",
     "text": [
      "628949330\n",
      "390577533.93\n"
     ]
    }
   ],
   "source": [
    "Distancia_Tiera = 149597870\n",
    "Distancia_Jupiter = 778547200\n",
    "\n",
    "Distancia_Entre_Planetas = Distancia_Jupiter - Distancia_Tiera\n",
    "Distancia_Millas = Distancia_Entre_Planetas*0.621\n",
    "print(Distancia_Entre_Planetas)\n",
    "print(Distancia_Millas)"
   ]
  },
  {
   "cell_type": "markdown",
   "metadata": {},
   "source": [
    "#Ejecricio 2"
   ]
  },
  {
   "cell_type": "code",
   "execution_count": 20,
   "metadata": {},
   "outputs": [
    {
     "name": "stdout",
     "output_type": "stream",
     "text": [
      "31236300.0\n"
     ]
    }
   ],
   "source": [
    "#Introducir distancias\n",
    "\n",
    "Primer_Planeta = input(\"Introducir distancia del Sol a el Primer Planeta en km\")\n",
    "Segundo_Planeta = input(\"Introducir distancia del Sol a el Segundo Planeta en km\")\n",
    "\n",
    "#Convertir distancias a numeros enteros\n",
    "\n",
    "Primer_Planeta = int(Primer_Planeta)\n",
    "Segundo_Planeta = int(Segundo_Planeta)\n",
    "\n",
    "#Convertir distancias a valores absolutos y posteriormente convertir distancias a millas.\n",
    "\n",
    "Primer_Planeta = abs(Primer_Planeta)*0.621\n",
    "Segundo_Planeta = abs(Segundo_Planeta)*0.621\n",
    "\n",
    "Distancia_En_Milas = Segundo_Planeta - Primer_Planeta\n",
    "print(Distancia_En_Milas)"
   ]
  }
 ],
 "metadata": {
  "interpreter": {
   "hash": "e28d9b8b85998b4f1517260871eb496025499656fc1a50381b2c499af6178249"
  },
  "kernelspec": {
   "display_name": "Python 3.10.2 64-bit (windows store)",
   "language": "python",
   "name": "python3"
  },
  "language_info": {
   "codemirror_mode": {
    "name": "ipython",
    "version": 3
   },
   "file_extension": ".py",
   "mimetype": "text/x-python",
   "name": "python",
   "nbconvert_exporter": "python",
   "pygments_lexer": "ipython3",
   "version": "3.10.2"
  },
  "orig_nbformat": 4
 },
 "nbformat": 4,
 "nbformat_minor": 2
}
